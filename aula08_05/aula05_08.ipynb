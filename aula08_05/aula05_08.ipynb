{
 "cells": [
  {
   "cell_type": "code",
   "execution_count": null,
   "metadata": {},
   "outputs": [],
   "source": [
    "pip install opencv-python\n"
   ]
  },
  {
   "cell_type": "code",
   "execution_count": 11,
   "metadata": {},
   "outputs": [],
   "source": [
    "import cv2 as cv\n",
    "import numpy as np\n",
    "\n",
    "imagem = cv.imread('wirebond_mask.tif', 0)\n",
    "imagem = cv.blur(imagem, (3,3))\n",
    "cv.imshow('imagem original', imagem)\n",
    "\"\"\n",
    "laplace = cv.Laplacian(imagem, cv.CV_64F)\n",
    "cv.imshow(\"dsakjfjskdhg valor ngativo\", laplace)\n",
    "\n",
    "\n",
    "laplace = np.uint8(np.absolute(laplace))\n",
    "cv.imshow(\"kdsbfkh valores ajustados\", laplace)\n",
    "\n",
    "cv.waitKey(0)\n",
    "cv.destroyAllWindows()\n"
   ]
  }
 ],
 "metadata": {
  "kernelspec": {
   "display_name": "Python 3",
   "language": "python",
   "name": "python3"
  },
  "language_info": {
   "codemirror_mode": {
    "name": "ipython",
    "version": 3
   },
   "file_extension": ".py",
   "mimetype": "text/x-python",
   "name": "python",
   "nbconvert_exporter": "python",
   "pygments_lexer": "ipython3",
   "version": "3.13.2"
  }
 },
 "nbformat": 4,
 "nbformat_minor": 2
}
