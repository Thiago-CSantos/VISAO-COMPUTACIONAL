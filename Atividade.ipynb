{
 "cells": [
  {
   "cell_type": "markdown",
   "metadata": {},
   "source": [
    "<font color = blue>\n",
    "<h1> Atividade - Transformações Geométricas em Imagens Digitais </h1>\n",
    "<h3> Curso: Engenharia de Software </h3>\n",
    "<h3> Disciplina: Visão Computacional </h3>\n",
    "</font>"
   ]
  },
  {
   "cell_type": "markdown",
   "metadata": {},
   "source": [
    "<h3> Objetivo </h3>\n",
    "<p>\n",
    "Conhecer as operações geométricas básicas sobre imagens: rotação, translação, escala e espelhamento.\n",
    "</p>"
   ]
  },
  {
   "cell_type": "markdown",
   "metadata": {},
   "source": [
    "<h3> Resumo da Teoria </h3>\n",
    "\n",
    "<p>\n",
    "Dada uma imagem, é bastante comum desejar modificá-la, alterando suas dimensões, rotacionando-a, eliminando parte da imagem e permanecendo somente com outra parte, obtendo uma versão espelhada dela etc. \n",
    "</p>\n",
    "<p>\n",
    "A este tipo de operação sobre imagens denominamos transformações geométricas, pois em geral envolvem princípios básicos de geometria analítica aplicados a matrizes, que neste caso são imagens. \n",
    "</p>\n",
    "<p>\n",
    "A maior parte das operações geométricas utiliza um processo conhecido como interpolação, que é uma técnica utilizada pelo programa para determinar valores entre pixels definidos. Por exemplo, se alteramos as dimensões de uma imagem de tal maneira que ela contenha o dobro do número de pixels original, o programa obterá os valores para os novos pixels através de interpolação. A biblioteca OpenCV provê, dentre seus métodos de interpolação, os que seguem:\n",
    "</p>\n",
    "<ul>\n",
    " <li><b>Vizinho mais próximo:</b> ajusta uma superfície constante através dos valores de intensidade. O valor de um pixel interpolado é o valor do pixel mais próximo. </li>\n",
    " <li><b>Interpolação bilinear:</b> ajusta uma superfície linear sobre os valores já existentes. O valor de um pixel interpolado é uma combinação dos valores de seus 4-vizinhos.</li> \n",
    " <li><b>Interpolação bicúbica:</b> ajusta uma superfície cúbica sobre os valores já existentes. O valor de um pixel interpolado é uma combinação dos 16 pixels mais próximos. </li>\n",
    "</ul>\n",
    "<p>\n",
    "    Neste trabalho, veremos como aplicar estas e outras técnicas usando a biblioteca OpenCV com a Linguagem de Programação Python.\n",
    "</p>\n"
   ]
  },
  {
   "cell_type": "markdown",
   "metadata": {},
   "source": [
    "<font color = blue>\n",
    "<h2> Atividade 1 - Escala </h2>\n",
    "\n",
    "<p>\n",
    "    Faça um programa em Python que leia a imagem 'lena.png'. Em seguida, faça o que se pede: \n",
    "    <ul>\n",
    "        <li> Exibir a imagem original e apresentar, no console, suas dimensões.</li>\n",
    "        <li> Ao pressionar a tecla 'd', a imagem resultante deverá ser diminuida pela metade em relação a imagem original. Apresentar as novas dimensões no console.</li>\n",
    "        <li> Ao pressionar a tecla 'a', a imagem resultante deverá ser ampliada pelo seu dobro em relação a imagem original. Apresentar as novas dimensões no console.</li>\n",
    "        <li> Ao pressionar a tecla 'Esc', o programa deverá ser finalizado.</li>\n",
    "    </ul>    \n",
    "</p>    \n",
    "</font>"
   ]
  },
  {
   "cell_type": "markdown",
   "metadata": {},
   "source": [
    "<font color = red>\n",
    "\n",
    "<h3> Função</h3>\n",
    "<p>\n",
    "    Explique aqui a finalidade da função utilizada bem como seus parâmetros\n",
    "</p>   "
   ]
  },
  {
   "cell_type": "code",
   "execution_count": 35,
   "metadata": {},
   "outputs": [
    {
     "name": "stdout",
     "output_type": "stream",
     "text": [
      "Dimensões originais: Altura = 512, Largura = 512\n"
     ]
    },
    {
     "ename": "KeyboardInterrupt",
     "evalue": "",
     "output_type": "error",
     "traceback": [
      "\u001b[1;31m---------------------------------------------------------------------------\u001b[0m",
      "\u001b[1;31mKeyboardInterrupt\u001b[0m                         Traceback (most recent call last)",
      "Cell \u001b[1;32mIn[35], line 15\u001b[0m\n\u001b[0;32m     12\u001b[0m cv\u001b[38;5;241m.\u001b[39mimshow(\u001b[38;5;124m'\u001b[39m\u001b[38;5;124mImagem\u001b[39m\u001b[38;5;124m'\u001b[39m, img)\n\u001b[0;32m     14\u001b[0m \u001b[38;5;28;01mwhile\u001b[39;00m \u001b[38;5;28;01mTrue\u001b[39;00m:\n\u001b[1;32m---> 15\u001b[0m     tecla \u001b[38;5;241m=\u001b[39m cv\u001b[38;5;241m.\u001b[39mwaitKey(\u001b[38;5;241m0\u001b[39m) \u001b[38;5;241m&\u001b[39m \u001b[38;5;241m0xFF\u001b[39m  \u001b[38;5;66;03m# Captura a tecla pressionada\u001b[39;00m\n\u001b[0;32m     17\u001b[0m     \u001b[38;5;28;01mif\u001b[39;00m tecla \u001b[38;5;241m==\u001b[39m \u001b[38;5;28mord\u001b[39m(\u001b[38;5;124m'\u001b[39m\u001b[38;5;124md\u001b[39m\u001b[38;5;124m'\u001b[39m): \n\u001b[0;32m     18\u001b[0m         img \u001b[38;5;241m=\u001b[39m cv\u001b[38;5;241m.\u001b[39mresize(img, (largura \u001b[38;5;241m/\u001b[39m\u001b[38;5;241m/\u001b[39m \u001b[38;5;241m2\u001b[39m, altura \u001b[38;5;241m/\u001b[39m\u001b[38;5;241m/\u001b[39m \u001b[38;5;241m2\u001b[39m), interpolation\u001b[38;5;241m=\u001b[39mcv\u001b[38;5;241m.\u001b[39mINTER_AREA)\n",
      "\u001b[1;31mKeyboardInterrupt\u001b[0m: "
     ]
    }
   ],
   "source": [
    "import cv2 as cv\n",
    "\n",
    "img = cv.imread('lena.png')\n",
    "\n",
    "altura, largura = img.shape[:2]\n",
    "print(f\"Dimensões originais: Altura = {altura}, Largura = {largura}\")\n",
    "\n",
    "cv.imshow('Imagem', img)\n",
    "\n",
    "while True:\n",
    "    tecla = cv.waitKey(0) & 0xFF\n",
    "    \n",
    "    if tecla == ord('d'): \n",
    "        img = cv.resize(img, (largura // 2, altura // 2), interpolation=cv.INTER_AREA)\n",
    "        altura, largura = img.shape[:2]\n",
    "        print(f\"Dimensões reduzidas: Altura = {altura}, Largura = {largura}\")\n",
    "        cv.imshow('Imagem', img)\n",
    "\n",
    "    elif tecla == ord('a'): \n",
    "        img = cv.resize(img, (largura * 2, altura * 2), interpolation=cv.INTER_CUBIC)\n",
    "        altura, largura = img.shape[:2]\n",
    "        print(f\"Dimensões ampliadas: Altura = {altura}, Largura = {largura}\")\n",
    "        cv.imshow('Imagem', img)\n",
    "\n",
    "    elif tecla == 27:\n",
    "        break\n",
    "\n",
    "cv.destroyAllWindows()\n"
   ]
  },
  {
   "cell_type": "markdown",
   "metadata": {},
   "source": [
    "<font color = blue>\n",
    "<h2> Atividade 2 - Translação </h2>\n",
    "\n",
    "<p>\n",
    "    Faça um programa em Python que leia a imagem 'lena.png'. Em seguida, faça o que se pede: \n",
    "    <ul>\n",
    "        <li> Exibir a imagem original.</li>\n",
    "        <li> Ao pressionar a tecla 'd', a imagem resultante deverá ser transladada em 50% em relação à imagem original no eixo horizontal à direita.</li>\n",
    "        <li> Ao pressionar a tecla 'a', a imagem resultante deverá ser transladada em 50% em relação à imagem original no eixo horizontal à esquerda.</li>\n",
    "        <li> Ao pressionar a tecla 'w', a imagem resultante deverá ser transladada em 50% em relação à imagem original no eixo vertical para cima.</li>\n",
    "        <li> Ao pressionar a tecla 's', a imagem resultante deverá ser transladada em 50% em relação à imagem original no eixo vertical para baixo.</li>\n",
    "        <li> Ao pressionar a tecla 'q', a imagem resultante deverá ser transladada em 1/4 em relação à imagem original no eixo vertical para baixo e horizontal à direita.</li>\n",
    "        <li> Ao pressionar a tecla 'Esc', o programa deverá ser finalizado.</li>\n",
    "    </ul>    \n",
    "</p>    \n",
    "</font>"
   ]
  },
  {
   "cell_type": "markdown",
   "metadata": {},
   "source": [
    "<font color = red>\n",
    "\n",
    "<h3> Função</h3>\n",
    "<p>\n",
    "    Explique aqui a finalidade da função utilizada bem como seus parâmetros\n",
    "</p>"
   ]
  },
  {
   "cell_type": "code",
   "execution_count": 40,
   "metadata": {},
   "outputs": [
    {
     "name": "stdout",
     "output_type": "stream",
     "text": [
      "Dimensões originais: Altura = 512, Largura = 512\n",
      "Encerrando...\n"
     ]
    }
   ],
   "source": [
    "import cv2 as cv\n",
    "import numpy as np\n",
    "\n",
    "img = cv.imread('lena.png')\n",
    "\n",
    "if img is None:\n",
    "    print(\"Erro ao carregar a imagem!\")\n",
    "    exit()\n",
    "\n",
    "altura, largura = img.shape[:2]\n",
    "print(f\"Dimensões originais: Altura = {altura}, Largura = {largura}\")\n",
    "\n",
    "cv.imshow('Imagem', img)\n",
    "\n",
    "while True:\n",
    "    tecla = cv.waitKey(0) & 0xFF \n",
    "    \n",
    "    if tecla == ord('d'): \n",
    "        M = np.float32([[1, 0, largura * 0.5], [0, 1, 0]])\n",
    "    \n",
    "    elif tecla == ord('a'): \n",
    "        M = np.float32([[1, 0, -largura * 0.5], [0, 1, 0]])\n",
    "    \n",
    "    elif tecla == ord('w'): \n",
    "        M = np.float32([[1, 0, 0], [0, 1, -altura * 0.5]])\n",
    "    \n",
    "    elif tecla == ord('s'): \n",
    "        M = np.float32([[1, 0, 0], [0, 1, altura * 0.5]])\n",
    "    \n",
    "    elif tecla == ord('q'): \n",
    "        M = np.float32([[1, 0, largura * 0.25], [0, 1, altura * 0.25]])\n",
    "    \n",
    "    elif tecla == 27: \n",
    "        print(\"Encerrando...\")\n",
    "        break\n",
    "    else:\n",
    "        continue \n",
    "\n",
    "    img_translada = cv.warpAffine(img, M, (largura, altura))\n",
    "\n",
    "    cv.imshow('Imagem', img_translada)\n",
    "\n",
    "cv.destroyAllWindows()\n"
   ]
  },
  {
   "cell_type": "markdown",
   "metadata": {},
   "source": [
    "<font color = blue>\n",
    "<h2> Atividade 3 - Rotação </h2>\n",
    "\n",
    "<p>\n",
    "    Faça um programa em Python que leia a imagem 'lena.png'. Em seguida, faça o que se pede: \n",
    "    <ul>\n",
    "        <li> Exibir a imagem original.</li>\n",
    "        <li> Ao pressionar a tecla 'd', rotacionar a imagem original em 45° no sentido horário.</li>\n",
    "        <li> Ao pressionar a tecla 'a', rotacionar a imagem original em 45° no sentido anti-horário.</li>\n",
    "        <li> Ao pressionar a tecla 'Esc', o programa deverá ser finalizado.</li>\n",
    "    </ul>    \n",
    "</p>    \n",
    "</font>"
   ]
  },
  {
   "cell_type": "markdown",
   "metadata": {},
   "source": [
    "<font color = red>\n",
    "\n",
    "<h3> Função</h3>\n",
    "<p>\n",
    "    Explique aqui a finalidade da função utilizada bem como seus parâmetros\n",
    "</p>"
   ]
  },
  {
   "cell_type": "code",
   "execution_count": 42,
   "metadata": {},
   "outputs": [
    {
     "name": "stdout",
     "output_type": "stream",
     "text": [
      "Dimensões originais: Altura = 512, Largura = 512\n"
     ]
    },
    {
     "ename": "KeyboardInterrupt",
     "evalue": "",
     "output_type": "error",
     "traceback": [
      "\u001b[1;31m---------------------------------------------------------------------------\u001b[0m",
      "\u001b[1;31mKeyboardInterrupt\u001b[0m                         Traceback (most recent call last)",
      "Cell \u001b[1;32mIn[42], line 18\u001b[0m\n\u001b[0;32m     15\u001b[0m cv\u001b[38;5;241m.\u001b[39mimshow(\u001b[38;5;124m'\u001b[39m\u001b[38;5;124mImagem\u001b[39m\u001b[38;5;124m'\u001b[39m, img)\n\u001b[0;32m     17\u001b[0m \u001b[38;5;28;01mwhile\u001b[39;00m \u001b[38;5;28;01mTrue\u001b[39;00m:\n\u001b[1;32m---> 18\u001b[0m     tecla \u001b[38;5;241m=\u001b[39m cv\u001b[38;5;241m.\u001b[39mwaitKey(\u001b[38;5;241m0\u001b[39m) \u001b[38;5;241m&\u001b[39m \u001b[38;5;241m0xFF\u001b[39m \n\u001b[0;32m     20\u001b[0m     \u001b[38;5;28;01mif\u001b[39;00m tecla \u001b[38;5;241m==\u001b[39m \u001b[38;5;28mord\u001b[39m(\u001b[38;5;124m'\u001b[39m\u001b[38;5;124md\u001b[39m\u001b[38;5;124m'\u001b[39m):  \n\u001b[0;32m     21\u001b[0m         M \u001b[38;5;241m=\u001b[39m cv\u001b[38;5;241m.\u001b[39mgetRotationMatrix2D(centro, \u001b[38;5;241m-\u001b[39m\u001b[38;5;241m45\u001b[39m, \u001b[38;5;241m1\u001b[39m)  \n",
      "\u001b[1;31mKeyboardInterrupt\u001b[0m: "
     ]
    }
   ],
   "source": [
    "import cv2 as cv\n",
    "import numpy as np\n",
    "\n",
    "img = cv.imread('lena.png')\n",
    "\n",
    "if img is None:\n",
    "    print(\"Erro ao carregar a imagem!\")\n",
    "    exit()\n",
    "\n",
    "altura, largura = img.shape[:2]\n",
    "centro = (largura // 2, altura // 2) \n",
    "\n",
    "print(f\"Dimensões originais: Altura = {altura}, Largura = {largura}\")\n",
    "\n",
    "cv.imshow('Imagem', img)\n",
    "\n",
    "while True:\n",
    "    tecla = cv.waitKey(0) & 0xFF \n",
    "\n",
    "    if tecla == ord('d'):  \n",
    "        M = cv.getRotationMatrix2D(centro, -45, 1)  \n",
    "    \n",
    "    elif tecla == ord('a'):  \n",
    "        M = cv.getRotationMatrix2D(centro, 45, 1)  \n",
    "    \n",
    "    elif tecla == 27: \n",
    "        print(\"Encerrando...\")\n",
    "        break\n",
    "    else:\n",
    "        continue  \n",
    "\n",
    "\n",
    "    img_rotacionada = cv.warpAffine(img, M, (largura, altura))\n",
    "\n",
    "    cv.imshow('Imagem', img_rotacionada)\n",
    "\n",
    "\n",
    "cv.destroyAllWindows()\n"
   ]
  },
  {
   "cell_type": "markdown",
   "metadata": {},
   "source": [
    "<font color = blue>\n",
    "<h2> Atividade 4 - Espelhamento </h2>\n",
    "\n",
    "<p>\n",
    "    Faça um programa em Python que leia a imagem 'lena.png'. Em seguida, faça o que se pede: \n",
    "    <ul>\n",
    "        <li> Exibir a imagem original.</li>\n",
    "        <li> Ao pressionar a tecla 'w', espelhar a imagem no eixo x.</li>\n",
    "        <li> Ao pressionar a tecla 'a', espelhar a imagem no eixo y.</li>\n",
    "        <li> Ao pressionar a tecla 's', espelhar a imagem nos eixos x e y.</li>\n",
    "        <li> Ao pressionar a tecla 'Esc', o programa deverá ser finalizado.</li>\n",
    "    </ul>    \n",
    "</p>    \n",
    "</font>"
   ]
  },
  {
   "cell_type": "markdown",
   "metadata": {},
   "source": [
    "<font color = red>\n",
    "\n",
    "<h3> Função</h3>\n",
    "<p>\n",
    "    Explique aqui a finalidade da função utilizada bem como seus parâmetros\n",
    "</p>"
   ]
  },
  {
   "cell_type": "code",
   "execution_count": 45,
   "metadata": {},
   "outputs": [
    {
     "name": "stdout",
     "output_type": "stream",
     "text": [
      "Imagem espelhada no eixo X (vertical).\n",
      "Imagem espelhada no eixo X (vertical).\n",
      "Imagem espelhada nos eixos X e Y.\n",
      "Imagem espelhada no eixo X (vertical).\n",
      "Imagem espelhada no eixo Y (horizontal).\n",
      "Imagem espelhada nos eixos X e Y.\n",
      "Imagem espelhada no eixo Y (horizontal).\n",
      "Imagem espelhada no eixo Y (horizontal).\n",
      "Imagem espelhada no eixo Y (horizontal).\n",
      "Imagem espelhada no eixo Y (horizontal).\n",
      "Imagem espelhada no eixo Y (horizontal).\n",
      "Imagem espelhada no eixo Y (horizontal).\n",
      "Imagem espelhada no eixo Y (horizontal).\n",
      "Imagem espelhada no eixo Y (horizontal).\n",
      "Imagem espelhada no eixo Y (horizontal).\n",
      "Imagem espelhada no eixo Y (horizontal).\n",
      "Imagem espelhada no eixo Y (horizontal).\n",
      "Imagem espelhada no eixo Y (horizontal).\n",
      "Imagem espelhada no eixo Y (horizontal).\n",
      "Imagem espelhada no eixo Y (horizontal).\n",
      "Imagem espelhada nos eixos X e Y.\n",
      "Imagem espelhada no eixo X (vertical).\n",
      "Imagem espelhada nos eixos X e Y.\n",
      "Imagem espelhada no eixo X (vertical).\n",
      "Imagem espelhada no eixo X (vertical).\n",
      "Imagem espelhada nos eixos X e Y.\n",
      "Imagem espelhada no eixo X (vertical).\n",
      "Imagem espelhada nos eixos X e Y.\n",
      "Imagem espelhada no eixo X (vertical).\n",
      "Imagem espelhada nos eixos X e Y.\n",
      "Imagem espelhada no eixo X (vertical).\n",
      "Imagem espelhada nos eixos X e Y.\n",
      "Imagem espelhada no eixo X (vertical).\n",
      "Imagem espelhada nos eixos X e Y.\n",
      "Imagem espelhada no eixo X (vertical).\n",
      "Imagem espelhada nos eixos X e Y.\n",
      "Imagem espelhada no eixo X (vertical).\n",
      "Imagem espelhada nos eixos X e Y.\n",
      "Imagem espelhada no eixo X (vertical).\n",
      "Imagem espelhada nos eixos X e Y.\n",
      "Imagem espelhada no eixo X (vertical).\n",
      "Imagem espelhada nos eixos X e Y.\n",
      "Imagem espelhada no eixo Y (horizontal).\n",
      "Imagem espelhada nos eixos X e Y.\n",
      "Imagem espelhada no eixo Y (horizontal).\n",
      "Imagem espelhada no eixo X (vertical).\n",
      "Imagem espelhada nos eixos X e Y.\n",
      "Imagem espelhada no eixo Y (horizontal).\n",
      "Imagem espelhada no eixo X (vertical).\n",
      "Imagem espelhada no eixo Y (horizontal).\n",
      "Imagem espelhada nos eixos X e Y.\n",
      "Imagem espelhada no eixo Y (horizontal).\n",
      "Imagem espelhada no eixo X (vertical).\n",
      "Imagem espelhada nos eixos X e Y.\n",
      "Imagem espelhada no eixo Y (horizontal).\n",
      "Imagem espelhada no eixo X (vertical).\n",
      "Imagem espelhada no eixo Y (horizontal).\n",
      "Imagem espelhada no eixo X (vertical).\n",
      "Imagem espelhada no eixo Y (horizontal).\n",
      "Imagem espelhada no eixo X (vertical).\n",
      "Imagem espelhada nos eixos X e Y.\n",
      "Imagem espelhada no eixo Y (horizontal).\n",
      "Imagem espelhada no eixo X (vertical).\n",
      "Imagem espelhada no eixo Y (horizontal).\n",
      "Imagem espelhada nos eixos X e Y.\n",
      "Imagem espelhada no eixo Y (horizontal).\n",
      "Imagem espelhada no eixo X (vertical).\n",
      "Imagem espelhada nos eixos X e Y.\n",
      "Imagem espelhada no eixo Y (horizontal).\n",
      "Imagem espelhada nos eixos X e Y.\n",
      "Imagem espelhada no eixo Y (horizontal).\n",
      "Imagem espelhada nos eixos X e Y.\n",
      "Imagem espelhada no eixo Y (horizontal).\n",
      "Imagem espelhada no eixo X (vertical).\n",
      "Imagem espelhada no eixo Y (horizontal).\n",
      "Imagem espelhada nos eixos X e Y.\n",
      "Encerrando...\n"
     ]
    }
   ],
   "source": [
    "import cv2 as cv\n",
    "\n",
    "img = cv.imread('lena.png')\n",
    "\n",
    "if img is None:\n",
    "    print(\"Erro ao carregar a imagem!\")\n",
    "    exit()\n",
    "\n",
    "cv.imshow('Imagem', img)\n",
    "\n",
    "while True:\n",
    "    tecla = cv.waitKey(0) & 0xFF  \n",
    "\n",
    "    if tecla == ord('w'):  \n",
    "        img_espelhada = cv.flip(img, 0)\n",
    "        print(\"Imagem espelhada no eixo X (vertical).\")\n",
    "\n",
    "    elif tecla == ord('a'): \n",
    "        img_espelhada = cv.flip(img, 1)\n",
    "        print(\"Imagem espelhada no eixo Y (horizontal).\")\n",
    "\n",
    "    elif tecla == ord('s'):  \n",
    "        img_espelhada = cv.flip(img, -1)\n",
    "        print(\"Imagem espelhada nos eixos X e Y.\")\n",
    "\n",
    "    elif tecla == 27: \n",
    "        print(\"Encerrando...\")\n",
    "        break\n",
    "    else:\n",
    "        continue  \n",
    "\n",
    "    cv.imshow('Imagem', img_espelhada)\n",
    "\n",
    "cv.destroyAllWindows()\n"
   ]
  },
  {
   "cell_type": "code",
   "execution_count": null,
   "metadata": {},
   "outputs": [],
   "source": []
  }
 ],
 "metadata": {
  "kernelspec": {
   "display_name": "Python [conda env:base] *",
   "language": "python",
   "name": "conda-base-py"
  },
  "language_info": {
   "codemirror_mode": {
    "name": "ipython",
    "version": 3
   },
   "file_extension": ".py",
   "mimetype": "text/x-python",
   "name": "python",
   "nbconvert_exporter": "python",
   "pygments_lexer": "ipython3",
   "version": "3.12.7"
  }
 },
 "nbformat": 4,
 "nbformat_minor": 4
}
