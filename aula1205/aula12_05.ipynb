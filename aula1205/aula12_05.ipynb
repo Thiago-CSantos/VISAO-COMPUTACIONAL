{
 "cells": [
  {
   "cell_type": "code",
   "execution_count": null,
   "metadata": {},
   "outputs": [],
   "source": [
    "pip install opencv-python numpy matplotlib"
   ]
  },
  {
   "cell_type": "code",
   "execution_count": null,
   "metadata": {},
   "outputs": [
    {
     "data": {
      "image/png": "[encoded data removed]",
      "text/plain": [
       "<Figure size 640x480 with 3 Axes>"
      ]
     },
     "metadata": {},
     "output_type": "display_data"
    }
   ],
   "source": [
    "import cv2 as cv\n",
    "import numpy as np \n",
    "from matplotlib import pyplot as plt\n",
    "\n",
    "img = cv.imread('img_retangulo.png')\n",
    "\n",
    "sobelx8u  = cv.Sobel(img, cv.CV_8U, 1,0,ksize=3)\n",
    "\n",
    "sobelx64f = cv.Sobel(img, cv.CV_64F, 1,0,ksize=3)\n",
    "abs_sobel = np.absolute(sobelx64f)\n",
    "sobel_8u = np.uint8(abs_sobel)\n",
    "\n",
    "\n",
    "plt.subplot(1,3,1),plt.imshow(img, cmap = 'gray')\n",
    "plt.title('Original'), plt.xticks([]), plt.yticks([])\n",
    "\n",
    "plt.subplot(1,3,2),plt.imshow(sobelx8u, cmap = 'gray')\n",
    "plt.title('Sobel CV_U8'), plt.xticks([]), plt.yticks([])\n",
    "\n",
    "plt.subplot(1,3,3),plt.imshow(sobel_8u, cmap = 'gray')\n",
    "plt.title('Sobel abs(CV_64F)'), plt.xticks([]), plt.yticks([])\n",
    "\n",
    "plt.show()"
   ]
  },
  {
   "cell_type": "code",
   "execution_count": null,
   "metadata": {},
   "outputs": [
    {
     "ename": "AttributeError",
     "evalue": "module 'numpy' has no attribute 'convertScaleAbs'",
     "output_type": "error",
     "traceback": [
      "\u001b[31m---------------------------------------------------------------------------\u001b[39m",
      "\u001b[31mAttributeError\u001b[39m                            Traceback (most recent call last)",
      "\u001b[36mCell\u001b[39m\u001b[36m \u001b[39m\u001b[32mIn[24]\u001b[39m\u001b[32m, line 10\u001b[39m\n\u001b[32m      7\u001b[39m grad_x  = cv.Sobel(img, cv.CV_16S, \u001b[32m1\u001b[39m,\u001b[32m0\u001b[39m,ksize=\u001b[32m3\u001b[39m)\n\u001b[32m      8\u001b[39m grad_y = cv.Sobel(img, cv.CV_16S, \u001b[32m1\u001b[39m,\u001b[32m0\u001b[39m,ksize=\u001b[32m3\u001b[39m)\n\u001b[32m---> \u001b[39m\u001b[32m10\u001b[39m abs_grad_x = \u001b[43mnp\u001b[49m\u001b[43m.\u001b[49m\u001b[43mconvertScaleAbs\u001b[49m(grad_x)\n\u001b[32m     11\u001b[39m abs_grad_y = np.convertScaleAbs(grad_y)\n\u001b[32m     13\u001b[39m grad = cv.add(abs_grad_x, abs_grad_y)\n",
      "\u001b[36mFile \u001b[39m\u001b[32m~\\AppData\\Roaming\\Python\\Python313\\site-packages\\numpy\\__init__.py:427\u001b[39m, in \u001b[36m__getattr__\u001b[39m\u001b[34m(attr)\u001b[39m\n\u001b[32m    424\u001b[39m     \u001b[38;5;28;01mimport\u001b[39;00m\u001b[38;5;250m \u001b[39m\u001b[34;01mnumpy\u001b[39;00m\u001b[34;01m.\u001b[39;00m\u001b[34;01mchar\u001b[39;00m\u001b[38;5;250m \u001b[39m\u001b[38;5;28;01mas\u001b[39;00m\u001b[38;5;250m \u001b[39m\u001b[34;01mchar\u001b[39;00m\n\u001b[32m    425\u001b[39m     \u001b[38;5;28;01mreturn\u001b[39;00m char.chararray\n\u001b[32m--> \u001b[39m\u001b[32m427\u001b[39m \u001b[38;5;28;01mraise\u001b[39;00m \u001b[38;5;167;01mAttributeError\u001b[39;00m(\u001b[33m\"\u001b[39m\u001b[33mmodule \u001b[39m\u001b[38;5;132;01m{!r}\u001b[39;00m\u001b[33m has no attribute \u001b[39m\u001b[33m\"\u001b[39m\n\u001b[32m    428\u001b[39m                      \u001b[33m\"\u001b[39m\u001b[38;5;132;01m{!r}\u001b[39;00m\u001b[33m\"\u001b[39m.format(\u001b[34m__name__\u001b[39m, attr))\n",
      "\u001b[31mAttributeError\u001b[39m: module 'numpy' has no attribute 'convertScaleAbs'"
     ]
    }
   ],
   "source": [
    "import cv2 as cv\n",
    "import numpy as np \n",
    "from matplotlib import pyplot as plt\n",
    "\n",
    "img = cv.imread('img_retangulo.png')\n",
    "\n",
    "grad_x  = cv.Sobel(img, cv.CV_16S, 1,0,ksize=3)\n",
    "grad_y = cv.Sobel(img, cv.CV_16S, 1,0,ksize=3)\n",
    "\n",
    "abs_grad_x = cv.convertScaleAbs(grad_x)\n",
    "abs_grad_y = cv.convertScaleAbs(grad_y)\n",
    "\n",
    "grad = cv.add(abs_grad_x, abs_grad_y)\n",
    "\n",
    "cv.imshow(\"Imagem original\", img)\n",
    "cv.imshow(\"Segmentação - X\", grad_x)\n",
    "cv.imshow(\"Segmentação - Y\", grad_y)\n",
    "cv.imshow(\"Segmentação - abs(X)\", abs_grad_x)\n",
    "cv.imshow(\"Segmentação - abs(Y)\", abs_grad_y)\n",
    "cv.imshow(\"Segmentação - abs(Y)\", grad)\n",
    "\n",
    "cv.waitKey(0)\n",
    "cv.destroyAllWindows()"
   ]
  }
 ],
 "metadata": {
  "kernelspec": {
   "display_name": "Python 3",
   "language": "python",
   "name": "python3"
  },
  "language_info": {
   "codemirror_mode": {
    "name": "ipython",
    "version": 3
   },
   "file_extension": ".py",
   "mimetype": "text/x-python",
   "name": "python",
   "nbconvert_exporter": "python",
   "pygments_lexer": "ipython3",
   "version": "3.13.2"
  }
 },
 "nbformat": 4,
 "nbformat_minor": 2
}
