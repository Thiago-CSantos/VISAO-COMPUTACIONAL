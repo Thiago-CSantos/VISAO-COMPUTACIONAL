{
 "cells": [
  {
   "cell_type": "code",
   "execution_count": null,
   "metadata": {},
   "outputs": [],
   "source": [
    "import cv2"
   ]
  },
  {
   "cell_type": "code",
   "execution_count": 16,
   "metadata": {},
   "outputs": [],
   "source": [
    "img = cv2.imread('image.png', cv2.IMREAD_GRAYSCALE)\n",
    "cv2.imshow('image gray', img)\n",
    "cv2.waitKey(0)\n",
    "cv2.destroyAllWindows()"
   ]
  },
  {
   "cell_type": "code",
   "execution_count": null,
   "metadata": {},
   "outputs": [],
   "source": [
    "img = cv2.imread('image.png', cv2.IMREAD_COLOR)\n",
    "cv2.imshow('image color', img)\n",
    "k = cv2.waitKey(0)\n",
    "\n",
    "if k == 27:\n",
    "    cv2.destroyAllWindows()\n",
    "\n",
    "elif k == ord('s'):\n",
    "    cv2.imwrite('image_copy.png', img)\n",
    "    cv2.destroyAllWindows()\n"
   ]
  }
 ],
 "metadata": {
  "kernelspec": {
   "display_name": "Python 3",
   "language": "python",
   "name": "python3"
  },
  "language_info": {
   "codemirror_mode": {
    "name": "ipython",
    "version": 3
   },
   "file_extension": ".py",
   "mimetype": "text/x-python",
   "name": "python",
   "nbconvert_exporter": "python",
   "pygments_lexer": "ipython3",
   "version": "3.12.5"
  }
 },
 "nbformat": 4,
 "nbformat_minor": 2
}
